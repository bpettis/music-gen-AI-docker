{
 "cells": [
  {
   "cell_type": "code",
   "execution_count": 1,
   "metadata": {},
   "outputs": [],
   "source": [
    "import undetected_chromedriver as uc\n",
    "from selenium.webdriver.common.by import By"
   ]
  },
  {
   "cell_type": "markdown",
   "metadata": {},
   "source": [
    "# Suno"
   ]
  },
  {
   "cell_type": "code",
   "execution_count": 11,
   "metadata": {},
   "outputs": [],
   "source": [
    "driver = uc.Chrome(version_main=128)\n",
    "driver.get('https://suno.com/')"
   ]
  },
  {
   "cell_type": "markdown",
   "metadata": {},
   "source": [
    "## Creating a song"
   ]
  },
  {
   "cell_type": "code",
   "execution_count": null,
   "metadata": {},
   "outputs": [],
   "source": [
    "driver.get('http://suno.com/create')"
   ]
  },
  {
   "cell_type": "code",
   "execution_count": 5,
   "metadata": {},
   "outputs": [],
   "source": [
    "query_field = driver.find_element(By.XPATH, '/html/body/div[1]/div[1]/div[2]/div[2]/div/div[1]/div[1]/div/div[1]/div/div[3]/div[2]/div/div/textarea')\n",
    "query_field.send_keys('angsty song about identity crisis caused by being pulled between your culture and your parents culture')"
   ]
  },
  {
   "cell_type": "code",
   "execution_count": 6,
   "metadata": {},
   "outputs": [],
   "source": [
    "create_btn = driver.find_element(By.XPATH, '/html/body/div[1]/div[1]/div[2]/div[2]/div/div[1]/div[1]/div/div[1]/div/div[3]/div[3]/button')\n",
    "create_btn.click()"
   ]
  },
  {
   "cell_type": "markdown",
   "metadata": {},
   "source": [
    "## Downloading a song"
   ]
  },
  {
   "cell_type": "code",
   "execution_count": 13,
   "metadata": {},
   "outputs": [],
   "source": [
    "driver.get('http://suno.com/me')"
   ]
  },
  {
   "cell_type": "code",
   "execution_count": 15,
   "metadata": {},
   "outputs": [
    {
     "ename": "ElementNotInteractableException",
     "evalue": "Message: element not interactable\n  (Session info: chrome=129.0.6668.70)\nStacktrace:\n0   undetected_chromedriver             0x0000000102ffe338 undetected_chromedriver + 5096248\n1   undetected_chromedriver             0x0000000102ff5b6a undetected_chromedriver + 5061482\n2   undetected_chromedriver             0x0000000102b80e01 undetected_chromedriver + 388609\n3   undetected_chromedriver             0x0000000102bcea85 undetected_chromedriver + 707205\n4   undetected_chromedriver             0x0000000102bc28c6 undetected_chromedriver + 657606\n5   undetected_chromedriver             0x0000000102bf1ef2 undetected_chromedriver + 851698\n6   undetected_chromedriver             0x0000000102bc2288 undetected_chromedriver + 656008\n7   undetected_chromedriver             0x0000000102bf20ae undetected_chromedriver + 852142\n8   undetected_chromedriver             0x0000000102c0f250 undetected_chromedriver + 971344\n9   undetected_chromedriver             0x0000000102bf1c93 undetected_chromedriver + 851091\n10  undetected_chromedriver             0x0000000102bc0c79 undetected_chromedriver + 650361\n11  undetected_chromedriver             0x0000000102bc149e undetected_chromedriver + 652446\n12  undetected_chromedriver             0x0000000102fc10b0 undetected_chromedriver + 4845744\n13  undetected_chromedriver             0x0000000102fc5fc8 undetected_chromedriver + 4865992\n14  undetected_chromedriver             0x0000000102fc6695 undetected_chromedriver + 4867733\n15  undetected_chromedriver             0x0000000102fa3ce9 undetected_chromedriver + 4725993\n16  undetected_chromedriver             0x0000000102fc6989 undetected_chromedriver + 4868489\n17  undetected_chromedriver             0x0000000102f95c04 undetected_chromedriver + 4668420\n18  undetected_chromedriver             0x0000000102fe5e68 undetected_chromedriver + 4996712\n19  undetected_chromedriver             0x0000000102fe6067 undetected_chromedriver + 4997223\n20  undetected_chromedriver             0x0000000102ff576e undetected_chromedriver + 5060462\n21  libsystem_pthread.dylib             0x00007fff20342950 _pthread_start + 224\n22  libsystem_pthread.dylib             0x00007fff2033e47b thread_start + 15\n",
     "output_type": "error",
     "traceback": [
      "\u001b[0;31m---------------------------------------------------------------------------\u001b[0m",
      "\u001b[0;31mElementNotInteractableException\u001b[0m           Traceback (most recent call last)",
      "Cell \u001b[0;32mIn[15], line 2\u001b[0m\n\u001b[1;32m      1\u001b[0m song \u001b[38;5;241m=\u001b[39m driver\u001b[38;5;241m.\u001b[39mfind_element(By\u001b[38;5;241m.\u001b[39mXPATH, \u001b[38;5;124m'\u001b[39m\u001b[38;5;124m/html/body/div[1]/div[1]/div[2]/div[2]/div/div[1]/div[1]/div/div/div[3]/div/div[1]/div/div/div/div/div[2]/div[1]/div[1]/span/a\u001b[39m\u001b[38;5;124m'\u001b[39m)\n\u001b[0;32m----> 2\u001b[0m \u001b[43msong\u001b[49m\u001b[38;5;241;43m.\u001b[39;49m\u001b[43mclick\u001b[49m\u001b[43m(\u001b[49m\u001b[43m)\u001b[49m\n",
      "File \u001b[0;32m~/Documents/Harvard/Senior Fall/Radcliffe Research Partners/music_genAI/lib/python3.9/site-packages/selenium/webdriver/remote/webelement.py:94\u001b[0m, in \u001b[0;36mWebElement.click\u001b[0;34m(self)\u001b[0m\n\u001b[1;32m     92\u001b[0m \u001b[38;5;28;01mdef\u001b[39;00m \u001b[38;5;21mclick\u001b[39m(\u001b[38;5;28mself\u001b[39m) \u001b[38;5;241m-\u001b[39m\u001b[38;5;241m>\u001b[39m \u001b[38;5;28;01mNone\u001b[39;00m:\n\u001b[1;32m     93\u001b[0m \u001b[38;5;250m    \u001b[39m\u001b[38;5;124;03m\"\"\"Clicks the element.\"\"\"\u001b[39;00m\n\u001b[0;32m---> 94\u001b[0m     \u001b[38;5;28;43mself\u001b[39;49m\u001b[38;5;241;43m.\u001b[39;49m\u001b[43m_execute\u001b[49m\u001b[43m(\u001b[49m\u001b[43mCommand\u001b[49m\u001b[38;5;241;43m.\u001b[39;49m\u001b[43mCLICK_ELEMENT\u001b[49m\u001b[43m)\u001b[49m\n",
      "File \u001b[0;32m~/Documents/Harvard/Senior Fall/Radcliffe Research Partners/music_genAI/lib/python3.9/site-packages/selenium/webdriver/remote/webelement.py:395\u001b[0m, in \u001b[0;36mWebElement._execute\u001b[0;34m(self, command, params)\u001b[0m\n\u001b[1;32m    393\u001b[0m     params \u001b[38;5;241m=\u001b[39m {}\n\u001b[1;32m    394\u001b[0m params[\u001b[38;5;124m\"\u001b[39m\u001b[38;5;124mid\u001b[39m\u001b[38;5;124m\"\u001b[39m] \u001b[38;5;241m=\u001b[39m \u001b[38;5;28mself\u001b[39m\u001b[38;5;241m.\u001b[39m_id\n\u001b[0;32m--> 395\u001b[0m \u001b[38;5;28;01mreturn\u001b[39;00m \u001b[38;5;28;43mself\u001b[39;49m\u001b[38;5;241;43m.\u001b[39;49m\u001b[43m_parent\u001b[49m\u001b[38;5;241;43m.\u001b[39;49m\u001b[43mexecute\u001b[49m\u001b[43m(\u001b[49m\u001b[43mcommand\u001b[49m\u001b[43m,\u001b[49m\u001b[43m \u001b[49m\u001b[43mparams\u001b[49m\u001b[43m)\u001b[49m\n",
      "File \u001b[0;32m~/Documents/Harvard/Senior Fall/Radcliffe Research Partners/music_genAI/lib/python3.9/site-packages/selenium/webdriver/remote/webdriver.py:354\u001b[0m, in \u001b[0;36mWebDriver.execute\u001b[0;34m(self, driver_command, params)\u001b[0m\n\u001b[1;32m    352\u001b[0m response \u001b[38;5;241m=\u001b[39m \u001b[38;5;28mself\u001b[39m\u001b[38;5;241m.\u001b[39mcommand_executor\u001b[38;5;241m.\u001b[39mexecute(driver_command, params)\n\u001b[1;32m    353\u001b[0m \u001b[38;5;28;01mif\u001b[39;00m response:\n\u001b[0;32m--> 354\u001b[0m     \u001b[38;5;28;43mself\u001b[39;49m\u001b[38;5;241;43m.\u001b[39;49m\u001b[43merror_handler\u001b[49m\u001b[38;5;241;43m.\u001b[39;49m\u001b[43mcheck_response\u001b[49m\u001b[43m(\u001b[49m\u001b[43mresponse\u001b[49m\u001b[43m)\u001b[49m\n\u001b[1;32m    355\u001b[0m     response[\u001b[38;5;124m\"\u001b[39m\u001b[38;5;124mvalue\u001b[39m\u001b[38;5;124m\"\u001b[39m] \u001b[38;5;241m=\u001b[39m \u001b[38;5;28mself\u001b[39m\u001b[38;5;241m.\u001b[39m_unwrap_value(response\u001b[38;5;241m.\u001b[39mget(\u001b[38;5;124m\"\u001b[39m\u001b[38;5;124mvalue\u001b[39m\u001b[38;5;124m\"\u001b[39m, \u001b[38;5;28;01mNone\u001b[39;00m))\n\u001b[1;32m    356\u001b[0m     \u001b[38;5;28;01mreturn\u001b[39;00m response\n",
      "File \u001b[0;32m~/Documents/Harvard/Senior Fall/Radcliffe Research Partners/music_genAI/lib/python3.9/site-packages/selenium/webdriver/remote/errorhandler.py:229\u001b[0m, in \u001b[0;36mErrorHandler.check_response\u001b[0;34m(self, response)\u001b[0m\n\u001b[1;32m    227\u001b[0m         alert_text \u001b[38;5;241m=\u001b[39m value[\u001b[38;5;124m\"\u001b[39m\u001b[38;5;124malert\u001b[39m\u001b[38;5;124m\"\u001b[39m]\u001b[38;5;241m.\u001b[39mget(\u001b[38;5;124m\"\u001b[39m\u001b[38;5;124mtext\u001b[39m\u001b[38;5;124m\"\u001b[39m)\n\u001b[1;32m    228\u001b[0m     \u001b[38;5;28;01mraise\u001b[39;00m exception_class(message, screen, stacktrace, alert_text)  \u001b[38;5;66;03m# type: ignore[call-arg]  # mypy is not smart enough here\u001b[39;00m\n\u001b[0;32m--> 229\u001b[0m \u001b[38;5;28;01mraise\u001b[39;00m exception_class(message, screen, stacktrace)\n",
      "\u001b[0;31mElementNotInteractableException\u001b[0m: Message: element not interactable\n  (Session info: chrome=129.0.6668.70)\nStacktrace:\n0   undetected_chromedriver             0x0000000102ffe338 undetected_chromedriver + 5096248\n1   undetected_chromedriver             0x0000000102ff5b6a undetected_chromedriver + 5061482\n2   undetected_chromedriver             0x0000000102b80e01 undetected_chromedriver + 388609\n3   undetected_chromedriver             0x0000000102bcea85 undetected_chromedriver + 707205\n4   undetected_chromedriver             0x0000000102bc28c6 undetected_chromedriver + 657606\n5   undetected_chromedriver             0x0000000102bf1ef2 undetected_chromedriver + 851698\n6   undetected_chromedriver             0x0000000102bc2288 undetected_chromedriver + 656008\n7   undetected_chromedriver             0x0000000102bf20ae undetected_chromedriver + 852142\n8   undetected_chromedriver             0x0000000102c0f250 undetected_chromedriver + 971344\n9   undetected_chromedriver             0x0000000102bf1c93 undetected_chromedriver + 851091\n10  undetected_chromedriver             0x0000000102bc0c79 undetected_chromedriver + 650361\n11  undetected_chromedriver             0x0000000102bc149e undetected_chromedriver + 652446\n12  undetected_chromedriver             0x0000000102fc10b0 undetected_chromedriver + 4845744\n13  undetected_chromedriver             0x0000000102fc5fc8 undetected_chromedriver + 4865992\n14  undetected_chromedriver             0x0000000102fc6695 undetected_chromedriver + 4867733\n15  undetected_chromedriver             0x0000000102fa3ce9 undetected_chromedriver + 4725993\n16  undetected_chromedriver             0x0000000102fc6989 undetected_chromedriver + 4868489\n17  undetected_chromedriver             0x0000000102f95c04 undetected_chromedriver + 4668420\n18  undetected_chromedriver             0x0000000102fe5e68 undetected_chromedriver + 4996712\n19  undetected_chromedriver             0x0000000102fe6067 undetected_chromedriver + 4997223\n20  undetected_chromedriver             0x0000000102ff576e undetected_chromedriver + 5060462\n21  libsystem_pthread.dylib             0x00007fff20342950 _pthread_start + 224\n22  libsystem_pthread.dylib             0x00007fff2033e47b thread_start + 15\n"
     ]
    }
   ],
   "source": [
    "song = driver.find_element(By.XPATH, '/html/body/div[1]/div[1]/div[2]/div[2]/div/div[1]/div[1]/div/div/div[3]/div/div[1]/div/div/div/div/div[2]/div[1]/div[1]/span/a')\n",
    "song.click()"
   ]
  },
  {
   "cell_type": "code",
   "execution_count": 38,
   "metadata": {},
   "outputs": [],
   "source": [
    "options_btn=driver.find_element(By.XPATH, '/html/body/div[1]/div[1]/div[2]/div[2]/div/div[1]/div[1]/div[2]/div[3]/div[2]/div/div[1]/div/button')\n",
    "options_btn.click()"
   ]
  },
  {
   "cell_type": "code",
   "execution_count": 40,
   "metadata": {},
   "outputs": [],
   "source": [
    "download_btn = driver.find_element(By.XPATH, '/html/body/div[6]/div/div[10]')\n",
    "download_btn.click()"
   ]
  },
  {
   "cell_type": "code",
   "execution_count": 41,
   "metadata": {},
   "outputs": [],
   "source": [
    "audio_download = driver.find_element(By.XPATH, '/html/body/div[6]/div/div[11]/div/div[1]')\n",
    "audio_download.click()"
   ]
  },
  {
   "cell_type": "markdown",
   "metadata": {},
   "source": [
    "# Test Website\n",
    "downloading an audio file from this royalty free music site works"
   ]
  },
  {
   "cell_type": "code",
   "execution_count": 3,
   "metadata": {},
   "outputs": [],
   "source": [
    "driver = uc.Chrome(version_main=128)\n",
    "driver.get('https://www.chosic.com/download-audio/54592/')"
   ]
  },
  {
   "cell_type": "code",
   "execution_count": 4,
   "metadata": {},
   "outputs": [],
   "source": [
    "download = driver.find_element(By.XPATH, '/html/body/div[1]/div[1]/div/article/div[2]/div[4]/button[1]')\n",
    "download.click()"
   ]
  },
  {
   "cell_type": "markdown",
   "metadata": {},
   "source": [
    "# Beatoven"
   ]
  },
  {
   "cell_type": "code",
   "execution_count": 3,
   "metadata": {},
   "outputs": [],
   "source": [
    "driver = uc.Chrome(version_main=128)\n",
    "driver.get('https://sync.beatoven.ai/')"
   ]
  },
  {
   "cell_type": "code",
   "execution_count": 4,
   "metadata": {},
   "outputs": [],
   "source": [
    "# manually log in before running this\n",
    "query_field = driver.find_element(By.XPATH, '//*[@id=\"__next\"]/div/div/div[2]/main/div[2]/div[2]/div/div/div/div/div[1]/div/div[1]/div[2]/textarea')\n",
    "query_field.send_keys('one minute backing track for a romantic movie scene')"
   ]
  },
  {
   "cell_type": "code",
   "execution_count": 5,
   "metadata": {},
   "outputs": [],
   "source": [
    "create_btn = driver.find_element(By.XPATH, '//*[@id=\"__next\"]/div/div/div[2]/main/div[2]/div[2]/div/div/div/div/div[1]/div/div[2]/button')\n",
    "create_btn.click()"
   ]
  },
  {
   "cell_type": "code",
   "execution_count": 7,
   "metadata": {},
   "outputs": [],
   "source": [
    "download_btn = driver.find_element(By.XPATH, '//*[@id=\"__next\"]/div/div/div[2]/main/div[1]/div[3]/div/div[2]/div/div/div/div[1]/div[1]/div[2]/div[2]/button')\n",
    "download_btn.click()\n",
    "# requires subscription plan"
   ]
  },
  {
   "cell_type": "markdown",
   "metadata": {},
   "source": [
    "# Limewire"
   ]
  },
  {
   "cell_type": "code",
   "execution_count": 8,
   "metadata": {},
   "outputs": [],
   "source": [
    "driver = uc.Chrome(version_main=128)\n",
    "driver.get('https://limewire.com/studio/audio/create-music')\n",
    "# manually log in after this "
   ]
  },
  {
   "cell_type": "code",
   "execution_count": 4,
   "metadata": {},
   "outputs": [],
   "source": [
    "query_field = driver.find_element(By.XPATH, '/html/body/div/div[3]/div/div/main/div/div[2]/div/div[2]/div/div/div/div[1]/div/div/textarea')\n",
    "query_field.send_keys('backing track for a romantic movie scene')"
   ]
  },
  {
   "cell_type": "code",
   "execution_count": 5,
   "metadata": {},
   "outputs": [],
   "source": [
    "create_btn = driver.find_element(By.XPATH, '/html/body/div/div[3]/div/div/main/div/div[2]/div/div[2]/div/div/div/div[2]/div/span/span/button')\n",
    "create_btn.click()"
   ]
  },
  {
   "cell_type": "code",
   "execution_count": 9,
   "metadata": {},
   "outputs": [],
   "source": [
    "download_btn = driver.find_element(By.XPATH, '/html/body/div/div[3]/div/div/main/div/div[2]/div/div[1]/div/div[2]/div/div/div/div[6]/div/div/div/div/div[2]/button[3]')\n",
    "download_btn.click()"
   ]
  },
  {
   "cell_type": "code",
   "execution_count": 10,
   "metadata": {},
   "outputs": [],
   "source": [
    "download_btn2 = driver.find_element(By.XPATH, '/html/body/div[2]/div/div/div/div[2]/div/div/div/fieldset/div[2]/div/div[2]/button')\n",
    "download_btn2.click()"
   ]
  },
  {
   "cell_type": "markdown",
   "metadata": {},
   "source": [
    "# Mubert"
   ]
  },
  {
   "cell_type": "code",
   "execution_count": 2,
   "metadata": {},
   "outputs": [],
   "source": [
    "driver = uc.Chrome(version_main=128)\n",
    "driver.get('https://mubert.com/')\n",
    "# manually log in after this"
   ]
  },
  {
   "cell_type": "code",
   "execution_count": 3,
   "metadata": {},
   "outputs": [],
   "source": [
    "# query_field = driver.find_element(By.XPATH, '/html/body/div[1]/div/div[2]/main/div[1]/div/div[3]/div/form/div/div[1]/div[2]/div[1]/div[1]/textarea')\n",
    "# query_field.send_keys('backing track for a romantic movie scene')"
   ]
  },
  {
   "cell_type": "code",
   "execution_count": 4,
   "metadata": {},
   "outputs": [],
   "source": [
    "# create_btn = driver.find_element(By.XPATH, '/html/body/div[1]/div/div[2]/main/div[1]/div/div[3]/div/form/div/div[4]/div[2]/button')\n",
    "# create_btn.click()"
   ]
  },
  {
   "cell_type": "code",
   "execution_count": 5,
   "metadata": {},
   "outputs": [],
   "source": [
    "driver.get('https://mubert.com/render/my-generated-tracks')"
   ]
  },
  {
   "cell_type": "code",
   "execution_count": 6,
   "metadata": {},
   "outputs": [],
   "source": [
    "download_btn = driver.find_element(By.XPATH, '/html/body/div[1]/div/div[2]/main/div[2]/div/div/div/table/tbody/tr/td[6]/div/div[2]')\n",
    "download_btn.click()"
   ]
  },
  {
   "cell_type": "code",
   "execution_count": 14,
   "metadata": {},
   "outputs": [],
   "source": [
    "driver.get('https://mubert.com/render/my-downloads')"
   ]
  },
  {
   "cell_type": "code",
   "execution_count": 16,
   "metadata": {},
   "outputs": [],
   "source": [
    "download_btn2 = driver.find_element(By.XPATH, '/html/body/div[1]/div/div[2]/main/div[2]/div[2]/div/div/table/tbody/tr[1]/td[6]/div/div[1]')\n",
    "download_btn2.click()"
   ]
  },
  {
   "cell_type": "code",
   "execution_count": 17,
   "metadata": {},
   "outputs": [],
   "source": [
    "download_btn3 = driver.find_element(By.XPATH, '/html/body/div[7]/div/div[2]/div/div[2]/div/div/div[2]/button[2]')\n",
    "download_btn3.click()"
   ]
  }
 ],
 "metadata": {
  "kernelspec": {
   "display_name": "music_genAI",
   "language": "python",
   "name": "python3"
  },
  "language_info": {
   "codemirror_mode": {
    "name": "ipython",
    "version": 3
   },
   "file_extension": ".py",
   "mimetype": "text/x-python",
   "name": "python",
   "nbconvert_exporter": "python",
   "pygments_lexer": "ipython3",
   "version": "3.9.13"
  }
 },
 "nbformat": 4,
 "nbformat_minor": 2
}
